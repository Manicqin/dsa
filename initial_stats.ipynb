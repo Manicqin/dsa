{
 "cells": [
  {
   "cell_type": "code",
   "execution_count": 1,
   "metadata": {},
   "outputs": [],
   "source": [
    "import numpy as np,pandas as pd,json,sqlite3,requests, os\n",
    "from jsonpath_ng import jsonpath\n",
    "from jsonpath_ng.ext import parse\n",
    "from pandas.io.json import json_normalize\n",
    "from dotenv import load_dotenv\n",
    "load_dotenv()\n",
    "db_path = os.environ.get('dsa_db')\n",
    "char_path = os.environ.get('char_data')\n",
    "game_path = os.environ.get('game_data')\n",
    "api_kiki = os.environ.get('api_kiki')\n",
    "url_gm = os.environ.get('url_game_data')\n",
    "url_chars = os.environ.get('url_chars')\n",
    "headers = os.environ.get('headers')\n",
    "with open(char_path, 'r') as char_data:\n",
    "    chars_json = json.load(char_data)"
   ]
  },
  {
   "cell_type": "code",
   "execution_count": 7,
   "metadata": {},
   "outputs": [
    {
     "data": {
      "text/html": [
       "<div>\n",
       "<style scoped>\n",
       "    .dataframe tbody tr th:only-of-type {\n",
       "        vertical-align: middle;\n",
       "    }\n",
       "\n",
       "    .dataframe tbody tr th {\n",
       "        vertical-align: top;\n",
       "    }\n",
       "\n",
       "    .dataframe thead th {\n",
       "        text-align: right;\n",
       "    }\n",
       "</style>\n",
       "<table border=\"1\" class=\"dataframe\">\n",
       "  <thead>\n",
       "    <tr style=\"text-align: right;\">\n",
       "      <th></th>\n",
       "      <th>Offense</th>\n",
       "      <th>Defense</th>\n",
       "      <th>Health</th>\n",
       "      <th>Recovery</th>\n",
       "      <th>CritChance</th>\n",
       "      <th>CritPower</th>\n",
       "      <th>AttackSpeed</th>\n",
       "      <th>Speed</th>\n",
       "      <th>Potency</th>\n",
       "      <th>Tenacity</th>\n",
       "      <th>Accuracy</th>\n",
       "      <th>Evasion</th>\n",
       "      <th>ID</th>\n",
       "    </tr>\n",
       "  </thead>\n",
       "  <tbody>\n",
       "    <tr>\n",
       "      <th>0</th>\n",
       "      <td>50</td>\n",
       "      <td>12</td>\n",
       "      <td>216</td>\n",
       "      <td>0</td>\n",
       "      <td>0.05</td>\n",
       "      <td>1.5</td>\n",
       "      <td>0.23</td>\n",
       "      <td>100</td>\n",
       "      <td>0.0</td>\n",
       "      <td>0.05</td>\n",
       "      <td>0.0</td>\n",
       "      <td>0.0</td>\n",
       "      <td>150</td>\n",
       "    </tr>\n",
       "  </tbody>\n",
       "</table>\n",
       "</div>"
      ],
      "text/plain": [
       "   Offense  Defense  Health  Recovery  CritChance  CritPower  AttackSpeed  \\\n",
       "0       50       12     216         0        0.05        1.5         0.23   \n",
       "\n",
       "   Speed  Potency  Tenacity  Accuracy  Evasion   ID  \n",
       "0    100      0.0      0.05       0.0      0.0  150  "
      ]
     },
     "execution_count": 7,
     "metadata": {},
     "output_type": "execute_result"
    }
   ],
   "source": [
    "d = chars_json['150']['UnitStats']\n",
    "d_d = pd.json_normalize(d)\n",
    "d_d['ID'] = 150\n",
    "d_d\n"
   ]
  },
  {
   "cell_type": "code",
   "execution_count": 10,
   "metadata": {},
   "outputs": [],
   "source": [
    "with sqlite3.connect(db_path) as conn:\n",
    "    conn.execute('DROP TABLE IF EXISTS initial_stats')\n",
    "    for toon in chars_json:\n",
    "        data = chars_json[toon]['UnitStats']\n",
    "        df = pd.json_normalize(data)\n",
    "        df['ID'] = chars_json[toon]['ID']\n",
    "        df.to_sql('initial_stats',conn, if_exists='append',index=False)"
   ]
  },
  {
   "cell_type": "code",
   "execution_count": null,
   "metadata": {},
   "outputs": [],
   "source": []
  }
 ],
 "metadata": {
  "interpreter": {
   "hash": "aee8b7b246df8f9039afb4144a1f6fd8d2ca17a180786b69acc140d282b71a49"
  },
  "kernelspec": {
   "display_name": "Python 3.9.6 64-bit",
   "language": "python",
   "name": "python3"
  },
  "language_info": {
   "codemirror_mode": {
    "name": "ipython",
    "version": 3
   },
   "file_extension": ".py",
   "mimetype": "text/x-python",
   "name": "python",
   "nbconvert_exporter": "python",
   "pygments_lexer": "ipython3",
   "version": "3.9.6"
  },
  "orig_nbformat": 4
 },
 "nbformat": 4,
 "nbformat_minor": 2
}
