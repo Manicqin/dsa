{
 "cells": [
  {
   "cell_type": "code",
   "execution_count": 1,
   "metadata": {},
   "outputs": [],
   "source": [
    "import numpy as np,pandas as pd,json,sqlite3,requests, os\n",
    "from jsonpath_ng import jsonpath\n",
    "from jsonpath_ng.ext import parse\n",
    "from pandas.io.json import json_normalize\n",
    "from dotenv import load_dotenv\n",
    "load_dotenv()\n",
    "db_path = os.environ.get('dsa_db')\n",
    "char_path = os.environ.get('char_data')\n",
    "game_path = os.environ.get('game_data')\n",
    "with open(char_path, 'r') as char_data:\n",
    "    chars_json = json.load(char_data)"
   ]
  },
  {
   "cell_type": "code",
   "execution_count": 9,
   "metadata": {},
   "outputs": [],
   "source": [
    "def fix_gear(dataf):\n",
    "    g = 1\n",
    "    c = 1\n",
    "    length = dataf.shape[0]\n",
    "    for i in range(0,length):\n",
    "        if i % 6 == 0 and i != 0: g+=1\n",
    "        dataf.at[i,'Gear'] = g\n",
    "        dataf.at[i,'Item_order'] = c\n",
    "        c+=1\n",
    "        if c == 7: c = 1 \n",
    "    return dataf\n"
   ]
  },
  {
   "cell_type": "code",
   "execution_count": 10,
   "metadata": {},
   "outputs": [],
   "source": [
    "with sqlite3.connect(db_path) as conn:\n",
    "    conn.execute('DROP TABLE IF EXISTS gear_items')\n",
    "    for toon in chars_json:\n",
    "        toon_data = chars_json[toon]['GearTiers']\n",
    "        toon_df = pd.json_normalize(toon_data,record_path=['GearTierSlot'],errors='ignore')\n",
    "        toon_df = fix_gear(toon_df)\n",
    "        toon_df['Toon_ID'] = chars_json[toon]['ID']\n",
    "        #if toon_df.shape[0] == 48:\n",
    "        try:\n",
    "            toon_df = toon_df[['Toon_ID', 'Gear', 'Item_order','Offense', 'Defense', 'Health', 'Recovery', 'CritChance', 'CritPower',\n",
    "        'AttackSpeed','Speed', 'Potency', 'Tenacity',\n",
    "        'Accuracy', 'Evasion','UnitLevel','ItemID']]\n",
    "            toon_df.to_sql('gear_items',conn,if_exists='append',index=False)\n",
    "        except:\n",
    "            continue"
   ]
  },
  {
   "cell_type": "code",
   "execution_count": 4,
   "metadata": {},
   "outputs": [],
   "source": [
    "with sqlite3.connect(db_path) as conn:\n",
    "    df = pd.read_sql('SELECT * FROM toons_categories', conn)\n",
    "    df['category_name'] = df['category_name'].apply(lambda x: x.replace('UNIT_CATEGORY_','').replace('_',' ').title())\n",
    "    df.to_sql('toons_categories',conn, if_exists='replace',index = False)"
   ]
  },
  {
   "cell_type": "code",
   "execution_count": 5,
   "metadata": {},
   "outputs": [],
   "source": [
    "conn.commit()"
   ]
  },
  {
   "cell_type": "code",
   "execution_count": null,
   "metadata": {},
   "outputs": [],
   "source": []
  }
 ],
 "metadata": {
  "interpreter": {
   "hash": "aee8b7b246df8f9039afb4144a1f6fd8d2ca17a180786b69acc140d282b71a49"
  },
  "kernelspec": {
   "display_name": "Python 3.9.6 64-bit",
   "name": "python3"
  },
  "language_info": {
   "codemirror_mode": {
    "name": "ipython",
    "version": 3
   },
   "file_extension": ".py",
   "mimetype": "text/x-python",
   "name": "python",
   "nbconvert_exporter": "python",
   "pygments_lexer": "ipython3",
   "version": "3.9.6"
  },
  "orig_nbformat": 4
 },
 "nbformat": 4,
 "nbformat_minor": 2
}
