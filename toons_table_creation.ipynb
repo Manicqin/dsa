{
 "cells": [
  {
   "cell_type": "markdown",
   "metadata": {},
   "source": [
    "Welcome to my project !\n",
    "in this following notebook you would encounter some practices about:\n",
    "reciving JSON response from REST API of a mobile game - Disney Sorcerers Arena.\n",
    "translating the response to normalized tables with pandas.\n",
    "\n",
    "\n",
    "That an RPG Game which focus on wide roster of characters and offer PVP and PVE modes.\n",
    "The purpose of this project is to create rdb for analysis and bots creation.\n",
    "\n",
    "I wish to empower my skills in engineering.\n",
    "in this notebook you will find practice about how to extract crucial data about the character power."
   ]
  },
  {
   "cell_type": "code",
   "execution_count": null,
   "metadata": {},
   "outputs": [],
   "source": [
    "import numpy as np,pandas as pd,json,sqlite3,requests\n",
    "from jsonpath_ng import jsonpath\n",
    "from jsonpath_ng.ext import parse\n",
    "from pandas.io.json import json_normalize\n",
    "pd.options.display.max_columns = 99\n",
    "\n",
    "with open('/Users/mac/Documents/Coding/Projects/DSA/Resources/characters_in_dsa.json', 'r') as char_data:\n",
    "    chars_json = json.load(char_data)\n",
    "\n"
   ]
  },
  {
   "cell_type": "markdown",
   "metadata": {},
   "source": [
    "After loading the source file as python object, I found this meta deta:\n",
    "- there are 176 main arrays. each array holds all the data over a character.\n",
    "let's remind that each array evaluate to more arrays of key-value, and value can become another array (hello nested).\n",
    "\n",
    "I'd use serieses and DataFrames constantly to avoid memory and time consuming of slower classes in python."
   ]
  },
  {
   "cell_type": "code",
   "execution_count": null,
   "metadata": {},
   "outputs": [],
   "source": [
    "print(type(chars_json)) #dict\n",
    "print(len(chars_json)) #176\n",
    "toons_ids = pd.Series(chars_json.keys())\n",
    "print(type(toons_ids))\n",
    "print(toons_ids[0])"
   ]
  },
  {
   "cell_type": "markdown",
   "metadata": {},
   "source": [
    "First, We need to figure out what we can extract, and looking at the first level We only got the toons ID's. let's dive deeper. I want to keep my script as reusable as possible so I try to avoid the singular data usage. I took all the id's and created a list of the values, so I can take the first position and work with that."
   ]
  },
  {
   "cell_type": "markdown",
   "metadata": {},
   "source": [
    "That some more helpful keys. I want to construct a table of the toons. Thanks to my experience in the game my data will be:\n",
    "ID | NameKey | StatProgressionTable | Obtainable | UnlockRarity | *Categories\n",
    "\n",
    "The categories level is another dict that needs to be flattened. I wish to make it:\n",
    "ID | NameKey | StatProgressionTable | Obtainable | UnlockRarity | Class | Fiction | Story.\n",
    "\n",
    "Let's see what's going on there."
   ]
  },
  {
   "cell_type": "markdown",
   "metadata": {},
   "source": [
    "Thanks to the versatility of JSON in Python we can traverse through our object to seperate the categories and manage them one by one."
   ]
  },
  {
   "cell_type": "code",
   "execution_count": null,
   "metadata": {},
   "outputs": [],
   "source": [
    "with open('/Users/mac/Documents/Coding/Projects/DSA/Resources/game_data_in_dsa.json', 'r') as game_data_file:\n",
    "    game_data = json.load(game_data_file)\n",
    "unit_categories = game_data['unit_categories']"
   ]
  },
  {
   "cell_type": "markdown",
   "metadata": {},
   "source": [
    "Let's sum so far;\n",
    "We managed to create a DataFrame that holds the crucial data and the categories as a list.\n",
    "As We know, relational table cannot hold more then one value, thereby We need to fix columns.\n",
    "We will go with Class, Fiction, Story and Type, there are more tags but as core-table We nned general data.\n",
    "\n",
    "Next, We are gonna fetch some data from our tables to be able to compare to the given categories list."
   ]
  },
  {
   "cell_type": "code",
   "execution_count": null,
   "metadata": {},
   "outputs": [],
   "source": [
    "types = []\n",
    "types_id = []\n",
    "with sqlite3.connect('/Users/mac/Documents/Coding/Projects/DSA/Resources/dsa.db') as conn:\n",
    "    curr = conn.cursor()\n",
    "    types_id = curr.execute('SELECT category_id  FROM toons_categories where category_type = 1').fetchall()\n",
    "for i in types_id:\n",
    "    i = int(i[0])\n",
    "    types.append(i)\n",
    "\n",
    "fiction = []\n",
    "clas = ['Offense', 'Defense', 'Support']\n",
    "with sqlite3.connect('/Users/mac/Documents/Coding/Projects/DSA/Resources/dsa.db') as conn:\n",
    "    curr = conn.cursor()\n",
    "    fictions_id = curr.execute('SELECT category_id  FROM toons_categories where category_type = 4').fetchall()\n",
    "for i in fictions_id:\n",
    "    i = int(i[0])\n",
    "    fiction.append(i)\n",
    "\n",
    "story_id = []\n",
    "with sqlite3.connect('/Users/mac/Documents/Coding/Projects/DSA/Resources/dsa.db') as conn:\n",
    "    curr = conn.cursor()\n",
    "    stories = curr.execute('SELECT category_id FROM toons_categories where category_type = 0').fetchall()\n",
    "for i in stories:\n",
    "    i = int(i[0])\n",
    "    story_id.append(i)\n",
    "\n",
    "clas_id = []\n",
    "clas = ['Offense', 'Defense', 'Support']\n",
    "with sqlite3.connect('/Users/mac/Documents/Coding/Projects/DSA/Resources/dsa.db') as conn:\n",
    "    curr = conn.cursor()\n",
    "    classes = curr.execute('SELECT category_id FROM toons_categories where category_type = 2').fetchall()\n",
    "for i in classes:\n",
    "    i = i[0]\n",
    "    clas_id.append(int(i))\n",
    "    "
   ]
  },
  {
   "cell_type": "markdown",
   "metadata": {},
   "source": [
    "We want to keep our code as clean as possible, and We nned to question each categories list and to switch the data into our DataFrame, the following function fixes everything and returning a good to go Table"
   ]
  },
  {
   "cell_type": "code",
   "execution_count": null,
   "metadata": {},
   "outputs": [],
   "source": [
    "def cat_fix(stg_categories,stg_toon_df):\n",
    "    b4_shape = stg_toon_df.shape\n",
    "    for cat in stg_categories:\n",
    "        if cat in fiction:\n",
    "            cat_name = unit_categories[f\"{cat}\"]['NameKey']\n",
    "            cat_name =  cat_name.replace('UNIT_CATEGORY_','').replace('_',' ').title()\n",
    "            stg_toon_df['Fiction'] = cat_name\n",
    "        elif cat in story_id:\n",
    "            cat_name = unit_categories[f\"{cat}\"]['NameKey']\n",
    "            cat_name =  cat_name.replace('UNIT_CATEGORY_','').replace('_',' ').title()\n",
    "            stg_toon_df['Story'] = cat_name\n",
    "        elif cat in clas_id:\n",
    "            cat_name = unit_categories[f\"{cat}\"]['NameKey']\n",
    "            cat_name =  cat_name.replace('UNIT_CATEGORY_','').replace('_',' ').title()\n",
    "            stg_toon_df['Class'] = cat_name\n",
    "        elif cat in types:\n",
    "            cat_name = unit_categories[f\"{cat}\"]['NameKey']\n",
    "            cat_name =  cat_name.replace('UNIT_CATEGORY_','').replace('_',' ').title()\n",
    "            stg_toon_df['Type'] = cat_name\n",
    "    return stg_toon_df_c\n",
    "        "
   ]
  },
  {
   "cell_type": "markdown",
   "metadata": {},
   "source": [
    "And here the real thing:\n",
    "We loop over all the toons and fixing them into normalized table, keeping the info we wants and everything as dast as possible."
   ]
  },
  {
   "cell_type": "code",
   "execution_count": null,
   "metadata": {},
   "outputs": [],
   "source": [
    "with sqlite3.connect('/Users/mac/Documents/Coding/Projects/DSA/Resources/dsa.db') as conn:\n",
    "    for toon in chars_json:\n",
    "        rel_cols = ['ID', 'NameKey','Obtainable', 'UnlockRarity','StatProgressionTable']\n",
    "        namekey = chars_json[toon]['NameKey'].replace('_UNIT_NAME','').replace('_',' ').title()\n",
    "        toon_df = pd.DataFrame.from_dict(chars_json[toon], orient='index').transpose()\n",
    "        categories_series = toon_df['Categories']\n",
    "        stg_toon_df_c = toon_df[rel_cols]\n",
    "        stg_toon_df_c['NameKey'] = namekey\n",
    "        stg_categories_c = chars_json[toon]['Categories']\n",
    "        stg_toon_df_c = cat_fix(stg_toon_df=stg_toon_df_c,stg_categories=stg_categories_c)\n",
    "        stg_toon_df_c.to_sql('toons',conn, if_exists='append',index=False)\n",
    "\n",
    "\n",
    "    "
   ]
  },
  {
   "cell_type": "code",
   "execution_count": null,
   "metadata": {},
   "outputs": [],
   "source": [
    "conn.commit()"
   ]
  },
  {
   "cell_type": "markdown",
   "metadata": {},
   "source": [
    "And that will be all !\n",
    "We did all the way from nested JSON object towards a normalized table that fixes all the toons. "
   ]
  }
 ],
 "metadata": {
  "interpreter": {
   "hash": "aee8b7b246df8f9039afb4144a1f6fd8d2ca17a180786b69acc140d282b71a49"
  },
  "kernelspec": {
   "display_name": "Python 3.9.6 64-bit",
   "name": "python3"
  },
  "language_info": {
   "codemirror_mode": {
    "name": "ipython",
    "version": 3
   },
   "file_extension": ".py",
   "mimetype": "text/x-python",
   "name": "python",
   "nbconvert_exporter": "python",
   "pygments_lexer": "ipython3",
   "version": "3.9.6"
  },
  "orig_nbformat": 4
 },
 "nbformat": 4,
 "nbformat_minor": 2
}
