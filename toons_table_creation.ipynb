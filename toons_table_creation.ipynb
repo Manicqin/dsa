{
 "cells": [
  {
   "cell_type": "markdown",
   "metadata": {},
   "source": [
    "Welcome to my project !\n",
    "in this following notebook you would encounter some practices about:\n",
    "reciving JSON response from REST API of a mobile game - Disney Sorcerers Arena.\n",
    "translating the response to normalized tables with pandas.\n",
    "\n",
    "\n",
    "That an RPG Game which focus on wide roster of characters and offer PVP and PVE modes.\n",
    "The purpose of this project is to create rdb for analysis and bots creation.\n",
    "\n",
    "I wish to empower my skills in engineering.\n",
    "in this notebook you will find practice about how to extract crucial data about the character power."
   ]
  },
  {
   "cell_type": "code",
   "execution_count": 1,
   "metadata": {},
   "outputs": [],
   "source": [
    "import numpy as np,pandas as pd,json,sqlite3,requests\n",
    "from jsonpath_ng import jsonpath\n",
    "from jsonpath_ng.ext import parse\n",
    "from pandas.io.json import json_normalize\n",
    "pd.options.display.max_columns = 99\n",
    "\n",
    "with open('/Users/mac/Documents/Coding/Projects/DSA/Resources/characters_in_dsa.json', 'r') as char_data:\n",
    "    chars_json = json.load(char_data)\n",
    "\n"
   ]
  },
  {
   "cell_type": "markdown",
   "metadata": {},
   "source": [
    "After loading the source file as python object, I found this meta deta:\n",
    "- there are 176 main arrays. each array holds all the data over a character.\n",
    "let's remind that each array evaluate to more arrays of key-value, and value can become another array (hello nested).\n",
    "\n",
    "I'd use serieses and DataFrames constantly to avoid memory and time consuming of slower classes in python."
   ]
  },
  {
   "cell_type": "code",
   "execution_count": 4,
   "metadata": {},
   "outputs": [
    {
     "name": "stdout",
     "output_type": "stream",
     "text": [
      "<class 'dict'>\n",
      "176\n",
      "<class 'pandas.core.series.Series'>\n",
      "7266520144288097\n"
     ]
    }
   ],
   "source": [
    "print(type(chars_json)) #dict\n",
    "print(len(chars_json)) #176\n",
    "toons_ids = pd.Series(chars_json.keys())\n",
    "print(type(toons_ids))\n",
    "print(toons_ids[0])"
   ]
  },
  {
   "cell_type": "markdown",
   "metadata": {},
   "source": [
    "First, We need to figure out what we can extract, and looking at the first level We only got the toons ID's. let's dive deeper. I want to keep my script as reusable as possible so I try to avoid the singular data usage. I took all the id's and created a list of the values, so I can take the first position and work with that."
   ]
  },
  {
   "cell_type": "code",
   "execution_count": 5,
   "metadata": {},
   "outputs": [
    {
     "name": "stdout",
     "output_type": "stream",
     "text": [
      "dict_keys(['ID', 'NameKey', 'UnitStats', 'StatProgressionTable', 'GearSlotTable', 'GearTiers', 'Icon', 'Obtainable', 'Abilities', 'PromotionMaterial', 'UnlockRarity', 'WalkSpeed', 'Categories', 'GearTierMeritItems', 'Skins', 'Hidden'])\n"
     ]
    }
   ],
   "source": [
    "demo = chars_json[toons_ids[0]]\n",
    "print(demo.keys())"
   ]
  },
  {
   "cell_type": "markdown",
   "metadata": {},
   "source": [
    "That some more helpful keys. I want to construct a table of the toons. Thanks to my experience in the game my data will be:\n",
    "ID | NameKey | StatProgressionTable | Obtainable | UnlockRarity | *Categories\n",
    "\n",
    "The categories level is another dict that needs to be flattened. I wish to make it:\n",
    "ID | NameKey | StatProgressionTable | Obtainable | UnlockRarity | Class | Fiction | Story.\n",
    "\n",
    "Let's see what's going on there."
   ]
  },
  {
   "cell_type": "code",
   "execution_count": 8,
   "metadata": {},
   "outputs": [
    {
     "data": {
      "text/html": [
       "<div>\n",
       "<style scoped>\n",
       "    .dataframe tbody tr th:only-of-type {\n",
       "        vertical-align: middle;\n",
       "    }\n",
       "\n",
       "    .dataframe tbody tr th {\n",
       "        vertical-align: top;\n",
       "    }\n",
       "\n",
       "    .dataframe thead th {\n",
       "        text-align: right;\n",
       "    }\n",
       "</style>\n",
       "<table border=\"1\" class=\"dataframe\">\n",
       "  <thead>\n",
       "    <tr style=\"text-align: right;\">\n",
       "      <th></th>\n",
       "      <th>0</th>\n",
       "      <th>ID</th>\n",
       "      <th>NameKey</th>\n",
       "      <th>Obtainable</th>\n",
       "      <th>UnlockRarity</th>\n",
       "      <th>StatProgressionTable</th>\n",
       "    </tr>\n",
       "  </thead>\n",
       "  <tbody>\n",
       "    <tr>\n",
       "      <th>0</th>\n",
       "      <td>614606076824576</td>\n",
       "      <td>7266520144288097</td>\n",
       "      <td>SHERIFF_OF_NOTTINGHAM_UNIT_NAME</td>\n",
       "      <td>True</td>\n",
       "      <td>3</td>\n",
       "      <td>6619604581022230</td>\n",
       "    </tr>\n",
       "    <tr>\n",
       "      <th>1</th>\n",
       "      <td>5960529125021754</td>\n",
       "      <td>7266520144288097</td>\n",
       "      <td>SHERIFF_OF_NOTTINGHAM_UNIT_NAME</td>\n",
       "      <td>True</td>\n",
       "      <td>3</td>\n",
       "      <td>6619604581022230</td>\n",
       "    </tr>\n",
       "    <tr>\n",
       "      <th>2</th>\n",
       "      <td>4419393874676815</td>\n",
       "      <td>7266520144288097</td>\n",
       "      <td>SHERIFF_OF_NOTTINGHAM_UNIT_NAME</td>\n",
       "      <td>True</td>\n",
       "      <td>3</td>\n",
       "      <td>6619604581022230</td>\n",
       "    </tr>\n",
       "    <tr>\n",
       "      <th>3</th>\n",
       "      <td>4934108704849804</td>\n",
       "      <td>7266520144288097</td>\n",
       "      <td>SHERIFF_OF_NOTTINGHAM_UNIT_NAME</td>\n",
       "      <td>True</td>\n",
       "      <td>3</td>\n",
       "      <td>6619604581022230</td>\n",
       "    </tr>\n",
       "    <tr>\n",
       "      <th>4</th>\n",
       "      <td>2136312807087658</td>\n",
       "      <td>7266520144288097</td>\n",
       "      <td>SHERIFF_OF_NOTTINGHAM_UNIT_NAME</td>\n",
       "      <td>True</td>\n",
       "      <td>3</td>\n",
       "      <td>6619604581022230</td>\n",
       "    </tr>\n",
       "  </tbody>\n",
       "</table>\n",
       "</div>"
      ],
      "text/plain": [
       "                  0                ID                          NameKey  \\\n",
       "0   614606076824576  7266520144288097  SHERIFF_OF_NOTTINGHAM_UNIT_NAME   \n",
       "1  5960529125021754  7266520144288097  SHERIFF_OF_NOTTINGHAM_UNIT_NAME   \n",
       "2  4419393874676815  7266520144288097  SHERIFF_OF_NOTTINGHAM_UNIT_NAME   \n",
       "3  4934108704849804  7266520144288097  SHERIFF_OF_NOTTINGHAM_UNIT_NAME   \n",
       "4  2136312807087658  7266520144288097  SHERIFF_OF_NOTTINGHAM_UNIT_NAME   \n",
       "\n",
       "  Obtainable UnlockRarity StatProgressionTable  \n",
       "0       True            3     6619604581022230  \n",
       "1       True            3     6619604581022230  \n",
       "2       True            3     6619604581022230  \n",
       "3       True            3     6619604581022230  \n",
       "4       True            3     6619604581022230  "
      ]
     },
     "execution_count": 8,
     "metadata": {},
     "output_type": "execute_result"
    }
   ],
   "source": [
    "rel_cols = ['ID', 'NameKey','Obtainable', 'UnlockRarity','Categories','StatProgressionTable']\n",
    "\n",
    "toon_df = pd.json_normalize(demo)\n",
    "categories_series = demo['Categories']\n",
    "pd.json_normalize(chars_json[toons_ids[0]],record_path=['Categories'],meta=['ID', 'NameKey','Obtainable', 'UnlockRarity','StatProgressionTable'])"
   ]
  },
  {
   "cell_type": "markdown",
   "metadata": {},
   "source": [
    "So our demo toon is The sherrif, so far we have nice dataframe which holds the categories as values. our next phase will be to check each cat_id and to determine what is it and to switch the id for the name.\n",
    "\n",
    "There is another JSON file that holds all the terms and their translation."
   ]
  },
  {
   "cell_type": "code",
   "execution_count": null,
   "metadata": {},
   "outputs": [],
   "source": [
    "with open('/Users/mac/Documents/Coding/Projects/DSA/Resources/game_data_in_dsa.json', 'r') as game_data_file:"
   ]
  }
 ],
 "metadata": {
  "interpreter": {
   "hash": "aee8b7b246df8f9039afb4144a1f6fd8d2ca17a180786b69acc140d282b71a49"
  },
  "kernelspec": {
   "display_name": "Python 3.9.6 64-bit",
   "name": "python3"
  },
  "language_info": {
   "codemirror_mode": {
    "name": "ipython",
    "version": 3
   },
   "file_extension": ".py",
   "mimetype": "text/x-python",
   "name": "python",
   "nbconvert_exporter": "python",
   "pygments_lexer": "ipython3",
   "version": "3.9.6"
  },
  "orig_nbformat": 4
 },
 "nbformat": 4,
 "nbformat_minor": 2
}
