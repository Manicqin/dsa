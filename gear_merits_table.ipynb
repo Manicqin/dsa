{
 "cells": [
  {
   "cell_type": "code",
   "execution_count": 1,
   "metadata": {},
   "outputs": [],
   "source": [
    "import numpy as np,pandas as pd,json,sqlite3,requests, os\n",
    "from jsonpath_ng import jsonpath\n",
    "from jsonpath_ng.ext import parse\n",
    "from pandas.io.json import json_normalize\n",
    "from dotenv import load_dotenv\n",
    "load_dotenv()\n",
    "db_path = os.environ.get('dsa_db')\n",
    "char_path = os.environ.get('char_data')\n",
    "game_path = os.environ.get('game_data')\n",
    "with open(char_path, 'r') as char_data:\n",
    "    chars_json = json.load(char_data)"
   ]
  },
  {
   "cell_type": "code",
   "execution_count": 21,
   "metadata": {},
   "outputs": [],
   "source": [
    "sherrif = chars_json['7266520144288097']"
   ]
  },
  {
   "cell_type": "code",
   "execution_count": 63,
   "metadata": {},
   "outputs": [
    {
     "name": "stdout",
     "output_type": "stream",
     "text": [
      "Index(['TierGrantedAt', 'Icon', 'NameKey', 'UnitStats.Offense',\n",
      "       'UnitStats.Defense', 'UnitStats.Health', 'UnitStats.Recovery',\n",
      "       'UnitStats.CritChance', 'UnitStats.CritPower', 'UnitStats.AttackSpeed',\n",
      "       'UnitStats.Speed', 'UnitStats.Potency', 'UnitStats.Tenacity',\n",
      "       'UnitStats.Accuracy', 'UnitStats.Evasion', 'ID'],\n",
      "      dtype='object')\n"
     ]
    }
   ],
   "source": [
    "sherrif_df = pd.json_normalize(sherrif,record_path=['GearTierMeritItems'],meta=['ID'])\n",
    "print(sherrif_df.columns)"
   ]
  },
  {
   "cell_type": "code",
   "execution_count": 61,
   "metadata": {},
   "outputs": [],
   "source": [
    "sherrif_df = sherrif_df.loc[:,['ID','TierGrantedAt', 'UnitStats.Offense','UnitStats.Defense', 'UnitStats.Health']]"
   ]
  },
  {
   "cell_type": "code",
   "execution_count": 67,
   "metadata": {},
   "outputs": [],
   "source": [
    "with sqlite3.connect(db_path) as conn:\n",
    "    conn.execute('DROP TABLE IF EXISTS gear_merits')\n",
    "    for toon in chars_json:\n",
    "\n",
    "        toon_df = pd.json_normalize(chars_json[toon],record_path=['GearTierMeritItems'],meta=['ID'])\n",
    "        try:\n",
    "            toon_df = toon_df.loc[:,['ID','TierGrantedAt', 'UnitStats.Offense','UnitStats.Defense', 'UnitStats.Health']]\n",
    "            toon_df.to_sql('gear_merits',conn, if_exists='append',index=False)\n",
    "        except:\n",
    "            continue\n",
    "        \n"
   ]
  },
  {
   "cell_type": "code",
   "execution_count": 68,
   "metadata": {},
   "outputs": [],
   "source": [
    "conn.commit()"
   ]
  }
 ],
 "metadata": {
  "interpreter": {
   "hash": "aee8b7b246df8f9039afb4144a1f6fd8d2ca17a180786b69acc140d282b71a49"
  },
  "kernelspec": {
   "display_name": "Python 3.9.6 64-bit",
   "name": "python3"
  },
  "language_info": {
   "codemirror_mode": {
    "name": "ipython",
    "version": 3
   },
   "file_extension": ".py",
   "mimetype": "text/x-python",
   "name": "python",
   "nbconvert_exporter": "python",
   "pygments_lexer": "ipython3",
   "version": "3.9.6"
  },
  "orig_nbformat": 4
 },
 "nbformat": 4,
 "nbformat_minor": 2
}
